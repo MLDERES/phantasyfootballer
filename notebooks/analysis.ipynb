{
 "cells": [
  {
   "cell_type": "code",
   "execution_count": null,
   "metadata": {
    "tags": []
   },
   "outputs": [],
   "source": [
    "import warnings\n",
    "warnings.filterwarnings('ignore')\n",
    "warnings.simplefilter('ignore')\n",
    "\n",
    "from pathlib import Path\n",
    "from kedro.framework.context import load_context\n",
    "import pandas as pd\n",
    "\n",
    "\n",
    "from IPython.core.interactiveshell import InteractiveShell\n",
    "InteractiveShell.ast_node_interactivity = \"all\"\n",
    "\n",
    "current_dir = Path.cwd()  # this points to 'notebooks/' folder\n",
    "proj_path = current_dir.parent  # point back to the root of the project\n",
    "context = load_context(proj_path)\n",
    "catalog = context.catalog\n",
    "\n",
    "from matplotlib import pyplot as plt \n",
    "import seaborn as sns\n"
   ]
  },
  {
   "cell_type": "code",
   "execution_count": null,
   "metadata": {
    "tags": []
   },
   "outputs": [],
   "source": [
    "from phantasyfootballer.settings import *\n",
    "from phantasyfootballer.common import Stats"
   ]
  },
  {
   "cell_type": "code",
   "execution_count": null,
   "metadata": {
    "tags": []
   },
   "outputs": [],
   "source": [
    "# Start by loading up the PPR data\n",
    "df_all = catalog.load('scoring.ppr')\n",
    "df_all.head()"
   ]
  },
  {
   "cell_type": "markdown",
   "metadata": {},
   "source": [
    "But mostly what I care about is the points and the relative spot with regard to the position, so let's create 5 more views of the data, one with just the points, rankings and value fields.  And then a dataframe for each skill position"
   ]
  },
  {
   "cell_type": "code",
   "execution_count": null,
   "metadata": {
    "tags": []
   },
   "outputs": [],
   "source": [
    "df_value = df_all[[PLAYER_NAME, POSITION]+Stats.VALUE_STATS]\n",
    "rb_value = df_value[df_value[POSITION] == RB].sort_values(Stats.FANTASY_POINTS, ascending=False)\n",
    "qb_value = df_value[df_value[POSITION] == QB].sort_values(Stats.FANTASY_POINTS, ascending=False)\n",
    "wr_value = df_value[df_value[POSITION] == WR].sort_values(Stats.FANTASY_POINTS, ascending=False)\n",
    "te_value = df_value[df_value[POSITION] == WR].sort_values(Stats.FANTASY_POINTS, ascending=False)\n",
    "flex_value = df_value.query('position in [\"RB\", \"TE\", \"WR\"]').sort_values(Stats.FANTASY_POINTS, ascending=False)"
   ]
  },
  {
   "cell_type": "code",
   "execution_count": null,
   "metadata": {
    "tags": []
   },
   "outputs": [],
   "source": [
    "flex_value.head()"
   ]
  },
  {
   "cell_type": "code",
   "execution_count": null,
   "metadata": {},
   "outputs": [],
   "source": [
    "def get_top_players_by_stat(df_pos, stat, num_players=100):\n",
    "    return df_pos.sort_values(stat,ascending=False).iloc[:num_players]\n",
    "    \n",
    "def plot_top_players_by_stat(df_pos, stat, num_players=100):\n",
    "    '''\n",
    "    Plot or display top players by stat\n",
    "    '''\n",
    "    players = get_top_players_by_stat(df_pos, stat, num_players=num_players)\n",
    "    players.plot(kind='bar', x=PLAYER_NAME, y=stat);\n",
    "\n",
    "\n"
   ]
  },
  {
   "cell_type": "code",
   "execution_count": null,
   "metadata": {},
   "outputs": [],
   "source": [
    "#plot_top_players_by_stat(flex_value, Stats.PCT_MEAN_OVR, num_players=50)\n",
    "#get_top_players_by_stat(flex_value, Stats.PCT_MEAN_OVR, num_players=50)\n",
    "get_top_players_by_stat(df_value, Stats.PCT_MEDIAN_OVR, num_players=50)\n",
    "get_top_players_by_stat(df_value, Stats.PCT_MEAN_OVR, num_players=50)"
   ]
  }
 ],
 "metadata": {
  "kernelspec": {
   "display_name": "Python 3.8.3 64-bit",
   "name": "python_defaultSpec_1598024082108"
  },
  "language_info": {
   "codemirror_mode": {
    "name": "ipython",
    "version": 3
   },
   "file_extension": ".py",
   "mimetype": "text/x-python",
   "name": "python",
   "nbconvert_exporter": "python",
   "pygments_lexer": "ipython3",
   "version": "3.8.3-final"
  }
 },
 "nbformat": 4,
 "nbformat_minor": 2
}
