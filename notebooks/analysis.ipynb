{
 "cells": [
  {
   "cell_type": "code",
   "execution_count": null,
   "metadata": {
    "tags": []
   },
   "outputs": [],
   "source": [
    "from pathlib import Path\n",
    "from kedro.framework.context import load_context\n",
    "\n",
    "current_dir = Path.cwd()  # this points to 'notebooks/' folder\n",
    "proj_path = current_dir.parent  # point back to the root of the project\n",
    "context = load_context(proj_path)\n",
    "\n",
    "import warnings\n",
    "warnings.filterwarnings('ignore')\n",
    "warnings.simplefilter('ignore')\n",
    "\n",
    "from IPython.core.interactiveshell import InteractiveShell\n",
    "InteractiveShell.ast_node_interactivity = \"all\"\n",
    "\n",
    "import pandas as pd\n",
    "import seaborn as sns\n",
    "import matplotlib.pyplot as plt\n"
   ]
  },
  {
   "cell_type": "markdown",
   "metadata": {},
   "source": [
    "# Setting up the positional datasets\n",
    "Here I'm going to load up a few datasets and then separate them out by position."
   ]
  },
  {
   "cell_type": "code",
   "execution_count": null,
   "metadata": {
    "tags": []
   },
   "outputs": [],
   "source": [
    "from phantasyfootballer.settings import *\n",
    "from phantasyfootballer.common import Stats\n",
    "df_ppr = catalog.load('scoring.ppr')\n",
    "df = context.catalog.load('ppr.percent_mean_data')\n",
    "df2 = context.catalog.load('ppr.percent_typical_data')\n",
    "df_qb = df.query('position==\"QB\"')\n",
    "df_wr = df.query('position==\"WR\"')\n",
    "df_rb = df.query('position==\"RB\"')\n",
    "df_te = df.query('position==\"TE\"')\n",
    "\n",
    "\n",
    "len(df_qb)\n",
    "len(df_rb)\n",
    "len(df_te)\n",
    "len(df_wr)\n",
    "df_qb.columns\n"
   ]
  },
  {
   "cell_type": "markdown",
   "metadata": {},
   "source": [
    "Now, just getting a sense of how many players are better than average (the average player will have a value of 1)"
   ]
  },
  {
   "cell_type": "code",
   "execution_count": null,
   "metadata": {},
   "outputs": [],
   "source": [
    "fig, ((ax1, ax2),(ax3, ax4)) = plt.subplots(2,2, figsize=(20,12))\n",
    "sns.distplot(df_qb.percent_average_position,ax=ax1).set_title('Distribution of `%` avg position QB')\n",
    "sns.distplot(df_rb.percent_average_position, ax=ax2).set_title('Distribution of `%` avg position RB')\n",
    "sns.distplot(df_wr.percent_average_position, ax=ax3).set_title('Distribution of `%` avg position WR')\n",
    "sns.distplot(df_te.percent_average_position, ax=ax4).set_title('Distribution of `%` avg position TE')"
   ]
  }
 ],
 "metadata": {
  "kernelspec": {
   "display_name": "Python 3.8.3 64-bit",
   "name": "python_defaultSpec_1598045424648"
  },
  "language_info": {
   "codemirror_mode": {
    "name": "ipython",
    "version": 3
   },
   "file_extension": ".py",
   "mimetype": "text/x-python",
   "name": "python",
   "nbconvert_exporter": "python",
   "pygments_lexer": "ipython3",
   "version": "3.8.3-final"
  }
 },
 "nbformat": 4,
 "nbformat_minor": 2
}
