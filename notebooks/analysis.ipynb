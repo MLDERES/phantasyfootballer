{
 "cells": [
  {
   "cell_type": "code",
   "execution_count": null,
   "metadata": {
    "tags": []
   },
   "outputs": [],
   "source": [
    "from pathlib import Path\n",
    "from kedro.framework.context import load_context\n",
    "\n",
    "current_dir = Path.cwd()  # this points to 'notebooks/' folder\n",
    "proj_path = current_dir.parent  # point back to the root of the project\n",
    "context = load_context(proj_path)\n",
    "catalog = context.catalog\n",
    "\n",
    "import warnings\n",
    "warnings.filterwarnings('ignore')\n",
    "warnings.simplefilter('ignore')\n",
    "\n",
    "from IPython.core.interactiveshell import InteractiveShell\n",
    "InteractiveShell.ast_node_interactivity = \"all\"\n",
    "\n",
    "import pandas as pd\n",
    "import seaborn as sns\n",
    "import matplotlib.pyplot as plt\n"
   ]
  },
  {
   "cell_type": "markdown",
   "metadata": {},
   "source": [
    "# Setting up the positional datasets\n",
    "Here I'm going to load up a few datasets and then separate them out by position."
   ]
  },
  {
   "cell_type": "code",
   "execution_count": null,
   "metadata": {
    "tags": []
   },
   "outputs": [],
   "source": [
    "from phantasyfootballer.common import Stats, PLAYER_NAME, TEAM, POSITION\n",
    "\n",
    "\n",
    "SCORING_MODE = 'ppr'\n",
    "FP = Stats.FANTASY_POINTS\n",
    "\n",
    "\n",
    "df_all = catalog.load(f'scoring.{SCORING_MODE}')\n",
    "df_qb = df_all.query('position==\"QB\"')\n",
    "df_wr = df_all.query('position==\"WR\"')\n",
    "df_rb = df_all.query('position==\"RB\"')\n",
    "df_te = df_all.query('position==\"TE\"')\n",
    "\n",
    "\n",
    "len(df_qb)\n",
    "len(df_rb)\n",
    "len(df_te)\n",
    "len(df_wr)\n",
    "df_qb.columns\n"
   ]
  },
  {
   "cell_type": "markdown",
   "metadata": {},
   "source": [
    "Now, just getting a sense of how many players are better than average (the average player will have a value of 1)"
   ]
  },
  {
   "cell_type": "code",
   "execution_count": null,
   "metadata": {},
   "outputs": [],
   "source": [
    "fig, ((ax1, ax2),(ax3, ax4)) = plt.subplots(2,2, figsize=(20,12))\n",
    "sns.distplot(df_qb.percent_average_position,ax=ax1).set_title('Distribution of `%` avg position QB');\n",
    "sns.distplot(df_rb.percent_average_position, ax=ax2).set_title('Distribution of `%` avg position RB');\n",
    "sns.distplot(df_wr.percent_average_position, ax=ax3).set_title('Distribution of `%` avg position WR');\n",
    "sns.distplot(df_te.percent_average_position, ax=ax4).set_title('Distribution of `%` avg position TE');"
   ]
  },
  {
   "cell_type": "markdown",
   "metadata": {},
   "source": [
    "# Defining plotting functions\n",
    "here is is helpful to put plotting functions into a function, so I don't have to repeat everything in order to plot the graphs for each position"
   ]
  },
  {
   "cell_type": "code",
   "execution_count": null,
   "metadata": {},
   "outputs": [],
   "source": [
    "def plot_4(plot, data, title, **kwargs):\n",
    "    '''\n",
    "    Max a 2x2 plot for each skill position.\n",
    "\n",
    "    Parameters\n",
    "    ----------\n",
    "    plot : callable\n",
    "        The plotting function to call\n",
    "    \n",
    "    data : list[data]\n",
    "        a list with the four dataframes, QB, RB, WR, TE\n",
    "    \n",
    "    title: str\n",
    "        The title of the plot\n",
    "    \n",
    "    top_player: bool\n",
    "        If True, limit the output to only the top players,\n",
    "        else use them all\n",
    "    **kwargs : dict\n",
    "        Any arguments required to make the plot correct\n",
    "    '''\n",
    "\n",
    "    fig, ((ax1, ax2),(ax3, ax4)) = plt.subplots(2,2, figsize=(20,12))\n",
    "    plot(data=data[0], **kwargs, ax=ax1 ).set_title(f'{title} QB');\n",
    "    plot(data=data[1], **kwargs, ax=ax2).set_title(f'{title} RB');\n",
    "    plot(data=data[2], **kwargs, ax=ax3).set_title(f'{title} WR');\n",
    "    plot(data=data[3], **kwargs, ax=ax4).set_title(f'{title} TE');\n",
    "\n",
    "def box_4(data, **kwargs):\n",
    "    for pos in data:\n",
    "        sns.distplot(pos)"
   ]
  },
  {
   "cell_type": "code",
   "execution_count": null,
   "metadata": {},
   "outputs": [],
   "source": [
    "plot_4(sns.boxplot, [df_qb, df_rb, df_wr, df_te],  'Distribution of `%` avg position',x=Stats.TOP_PLAYER, y=Stats.PCT_MEAN_OVR);\n"
   ]
  },
  {
   "cell_type": "markdown",
   "metadata": {},
   "source": [
    "Looking at all the players, ranking them by their overall draft value based on the number of points expected over the average player, and the median player."
   ]
  },
  {
   "cell_type": "code",
   "execution_count": null,
   "metadata": {},
   "outputs": [],
   "source": [
    "df_overall = df_all.query(Stats.TOP_PLAYER).sort_values(Stats.PCT_MEAN_OVR,ascending=False)[[PLAYER_NAME, POSITION, Stats.RANK, Stats.POS_RANK, Stats.PCT_MEAN_OVR, Stats.PCT_MEDIAN_OVR]]\n",
    "df_overall"
   ]
  },
  {
   "cell_type": "markdown",
   "metadata": {},
   "source": [
    "## Player Value\n",
    "Alright, let's assume a player value is based on the value they bring from the worst player in the position that we are willing to consider (so this is the TOP_PLAYER filter).  Let's look at all the players and consider value based on that player."
   ]
  },
  {
   "cell_type": "code",
   "execution_count": null,
   "metadata": {},
   "outputs": [],
   "source": [
    "top_players = df_all[df_all[Stats.TOP_PLAYER]].sort_values(Stats.FANTASY_POINTS, ascending=False)\n",
    "top_players.groupby(POSITION)[Stats.FANTASY_POINTS].sum()"
   ]
  },
  {
   "cell_type": "code",
   "execution_count": null,
   "metadata": {},
   "outputs": [],
   "source": [
    "df_all['position_value'] = df_all.groupby(POSITION)[FP].transform(lambda x: x / x.sum())\n",
    "df_all['value_remaining'] = 1-df_all[[POSITION,'position_value']].sort_values('position_value', ascending=False).groupby(POSITION).cumsum()"
   ]
  },
  {
   "cell_type": "code",
   "execution_count": null,
   "metadata": {},
   "outputs": [],
   "source": [
    "df_all.sort_values('value_remaining',ascending=False)"
   ]
  }
 ],
 "metadata": {
  "kernelspec": {
   "display_name": "phantasyfootballer",
   "language": "python",
   "name": "phantasyfootballer"
  },
  "language_info": {
   "codemirror_mode": {
    "name": "ipython",
    "version": 3
   },
   "file_extension": ".py",
   "mimetype": "text/x-python",
   "name": "python",
   "nbconvert_exporter": "python",
   "pygments_lexer": "ipython3",
   "version": "3.8.3"
  }
 },
 "nbformat": 4,
 "nbformat_minor": 2
}
