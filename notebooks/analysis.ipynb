{
 "cells": [
  {
   "cell_type": "code",
   "execution_count": null,
   "metadata": {
    "tags": []
   },
   "outputs": [],
   "source": [
    "from pathlib import Path\n",
    "from kedro.framework.context import load_context\n",
    "from IPython.core.interactiveshell import InteractiveShell\n",
    "from IPython.display import display, HTML\n",
    "\n",
    "current_dir = Path.cwd()  # this points to 'notebooks/' folder\n",
    "proj_path = current_dir.parent  # point back to the root of the project\n",
    "context = load_context(proj_path)\n",
    "catalog = context.catalog\n",
    "\n",
    "import warnings\n",
    "\n",
    "import pandas as pd\n",
    "import seaborn as sns\n",
    "import matplotlib.pyplot as plt\n",
    "\n",
    "InteractiveShell.ast_node_interactivity = \"all\"\n",
    "warnings.filterwarnings('ignore')\n",
    "warnings.simplefilter('ignore')\n",
    "\n",
    "pd.set_option('display.multi_sparse', False)\n",
    "pd.set_option('display.max_rows', 500)\n",
    "pd.set_option('display.float_format', lambda x: '%8.2f' % x)"
   ]
  },
  {
   "cell_type": "markdown",
   "metadata": {},
   "source": [
    "# Setting up the positional datasets\n",
    "Here I'm going to load up a few datasets and then separate them out by position."
   ]
  },
  {
   "cell_type": "code",
   "execution_count": null,
   "metadata": {
    "tags": []
   },
   "outputs": [],
   "source": [
    "from phantasyfootballer.common import Stats, PLAYER_NAME, TEAM, POSITION\n",
    "\n",
    "\n",
    "SCORING_MODE = 'ppr'\n",
    "FP = Stats.FANTASY_POINTS\n",
    "\n",
    "\n",
    "df_all = catalog.load(f'scoring.{SCORING_MODE}').set_index(PLAYER_NAME)\n",
    "df_qb = df_all.query('position==\"QB\"')\n",
    "df_wr = df_all.query('position==\"WR\"')\n",
    "df_rb = df_all.query('position==\"RB\"')\n",
    "df_te = df_all.query('position==\"TE\"')\n",
    "df_qb.columns\n",
    "\n",
    "\n"
   ]
  },
  {
   "cell_type": "code",
   "execution_count": null,
   "metadata": {},
   "outputs": [],
   "source": [
    "df_all.groupby(POSITION)[[Stats.POS_VALUE_REM, POSITION]]#.sort_values(Stats.POS_VALUE_REM, ascending=False)\n"
   ]
  },
  {
   "cell_type": "code",
   "execution_count": null,
   "metadata": {},
   "outputs": [],
   "source": [
    "dir(pd.options.display)"
   ]
  },
  {
   "cell_type": "code",
   "execution_count": null,
   "metadata": {},
   "outputs": [],
   "source": [
    "df_all.groupby(POSITION).groups"
   ]
  },
  {
   "cell_type": "markdown",
   "metadata": {},
   "source": [
    "# Defining plotting functions\n",
    "here is is helpful to put plotting functions into a function, so I don't have to repeat everything in order to plot the graphs for each position"
   ]
  },
  {
   "cell_type": "code",
   "execution_count": null,
   "metadata": {},
   "outputs": [],
   "source": [
    "def plot_4(plot, data, title='', **kwargs):\n",
    "    '''\n",
    "    Max a 2x2 plot for each skill position.\n",
    "\n",
    "    Parameters\n",
    "    ----------\n",
    "    plot : callable\n",
    "        The plotting function to call\n",
    "    \n",
    "    data : list[data]\n",
    "        a list with the four dataframes, QB, RB, WR, TE\n",
    "    \n",
    "    title: str\n",
    "        The title of the plot\n",
    "    \n",
    "    top_player: bool\n",
    "        If True, limit the output to only the top players,\n",
    "        else use them all\n",
    "    **kwargs : dict\n",
    "        Any arguments required to make the plot correct\n",
    "    '''\n",
    "    data = [df_qb, df_rb, df_wr, df_te] if data is None else data\n",
    "    #fig, ((ax1, ax2),(ax3, ax4)) = plt.subplots(2,2, figsize=(20,12))\n",
    "    fig, ax = plt.subplots(2,2, figsize=(20,12))\n",
    "    plot(data=data[0], **kwargs, ax=ax[0][0] ).set_title(f'{title} QB');\n",
    "    plot(data=data[1], **kwargs, ax=ax[0][1]).set_title(f'{title} RB');\n",
    "    plot(data=data[2], **kwargs, ax=ax[1][0]).set_title(f'{title} WR');\n",
    "    plot(data=data[3], **kwargs, ax=ax[1][1]).set_title(f'{title} TE');\n",
    "\n",
    "def plot_4_xonly(plot, data, stat, title, **kwargs):\n",
    "    data = [df_qb, df_rb, df_wr, df_te] if data is None else data\n",
    "    fig, ax = plt.subplots(2,2, figsize=(20,12))\n",
    "    plot(data[0][stat], **kwargs, ax=ax[0][0] ).set_title(f'{title} QB');\n",
    "    plot(data[1][stat], **kwargs, ax=ax[0][1]).set_title(f'{title} RB');\n",
    "    plot(data[2][stat], **kwargs, ax=ax[1][0]).set_title(f'{title} WR');\n",
    "    plot(data[3][stat], **kwargs, ax=ax[1][1]).set_title(f'{title} TE');"
   ]
  },
  {
   "cell_type": "markdown",
   "metadata": {},
   "source": [
    "Now, just getting a sense of how many players are better than average (the average player will have a value of 1)"
   ]
  },
  {
   "cell_type": "code",
   "execution_count": null,
   "metadata": {},
   "outputs": [],
   "source": [
    "plot_4_xonly(sns.distplot, None, title='Distribution of `%` avg position',stat=Stats.PCT_MEAN_OVR);\n",
    "plot_4(sns.boxplot, None,  'Distribution of `%` avg position',x=Stats.TOP_PLAYER, y=Stats.PCT_MEAN_OVR);\n"
   ]
  },
  {
   "cell_type": "markdown",
   "metadata": {},
   "source": [
    "Looking at all the players, ranking them by their overall draft value based on the number of points expected over the average player, and the median player."
   ]
  },
  {
   "cell_type": "code",
   "execution_count": null,
   "metadata": {},
   "outputs": [],
   "source": [
    "df_all[[PLAYER_NAME, Stats.POS_VALUE, Stats.POS_VALUE_REM]].sort_values(Stats.POS_VALUE_REM, ascending = False)[:50]"
   ]
  },
  {
   "cell_type": "markdown",
   "metadata": {},
   "source": [
    "## Player Value\n",
    "Alright, let's assume a player value is based on the value they bring from the worst player in the position that we are willing to consider (so this is the TOP_PLAYER filter).  Let's look at all the players and consider value based on that player."
   ]
  },
  {
   "cell_type": "code",
   "execution_count": null,
   "metadata": {},
   "outputs": [],
   "source": [
    "df_all[Stats.VALUE_STATS]"
   ]
  },
  {
   "cell_type": "code",
   "execution_count": null,
   "metadata": {},
   "outputs": [],
   "source": []
  }
 ],
 "metadata": {
  "kernelspec": {
   "display_name": "phantasyfootballer",
   "language": "python",
   "name": "phantasyfootballer"
  },
  "language_info": {
   "codemirror_mode": {
    "name": "ipython",
    "version": 3
   },
   "file_extension": ".py",
   "mimetype": "text/x-python",
   "name": "python",
   "nbconvert_exporter": "python",
   "pygments_lexer": "ipython3",
   "version": "3.8.3"
  }
 },
 "nbformat": 4,
 "nbformat_minor": 2
}
