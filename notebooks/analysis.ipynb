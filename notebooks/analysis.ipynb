{
 "cells": [
  {
   "cell_type": "code",
   "execution_count": null,
   "metadata": {
    "tags": []
   },
   "outputs": [],
   "source": [
    "import warnings\n",
    "warnings.filterwarnings('ignore')\n",
    "warnings.simplefilter('ignore')\n",
    "\n",
    "from pathlib import Path\n",
    "from kedro.framework.context import load_context\n",
    "import pandas as pd\n",
    "\n",
    "\n",
    "from IPython.core.interactiveshell import InteractiveShell\n",
    "InteractiveShell.ast_node_interactivity = \"all\"\n",
    "\n",
    "current_dir = Path.cwd()  # this points to 'notebooks/' folder\n",
    "proj_path = current_dir.parent  # point back to the root of the project\n",
    "context = load_context(proj_path)\n",
    "catalog = context.catalog\n",
    "\n",
    "from phantasyfootballer.settings import *\n",
    "from phantasyfootballer.common import *"
   ]
  },
  {
   "cell_type": "code",
   "execution_count": null,
   "metadata": {
    "tags": []
   },
   "outputs": [],
   "source": [
    "df_ppr = catalog.load('scoring.ppr')\n",
    "df_ppr.head()"
   ]
  },
  {
   "cell_type": "code",
   "execution_count": null,
   "metadata": {},
   "outputs": [],
   "source": [
    "class projections():\n",
    "\n",
    "    def __init__(self, data):\n",
    "        self._data = data\n",
    "        self._support_stats = set(Stats.ALL_STATS).intersection(data.columns)\n",
    "        self._supported_features = None\n",
    "\n",
    "    def stats(self):\n",
    "        return self._data[self._support_stats]\n",
    "\n",
    "    def pts(self):\n",
    "        return self._data[[Stats.points('full_ppr'), Stats.points('half_ppr'), Stats.points('standard')]]\n",
    "    \n",
    "    def features(self):\n",
    "        return None\n",
    "\n"
   ]
  },
  {
   "cell_type": "code",
   "execution_count": null,
   "metadata": {},
   "outputs": [],
   "source": [
    "df_pos_proj = df_proj.groupby(POSITION).mean()\n",
    "pos_proj = projections(df_proj)\n",
    "pos_proj.stats()\n",
    "pos_proj.pts()"
   ]
  },
  {
   "cell_type": "code",
   "execution_count": null,
   "metadata": {},
   "outputs": [],
   "source": [
    "pos_proj._data[[Stats.points('full_ppr'), Stats.points('half_ppr'), Stats.points('standard')]]"
   ]
  },
  {
   "cell_type": "code",
   "execution_count": null,
   "metadata": {},
   "outputs": [],
   "source": [
    "df_full_projections = df_proj.join(df_pos_proj[[Stats.points('full_ppr'), Stats.points('half_ppr'),Stats.points('standard')]], on=POSITION, rsuffix='_apr')\n",
    "df_full_projections.columns"
   ]
  },
  {
   "cell_type": "code",
   "execution_count": null,
   "metadata": {},
   "outputs": [],
   "source": [
    "def pct_avg_value(df, col):\n",
    "    df[f'pct_of_avg_{col}'] = df[Stats.points(col)] / df[f'{Stats.points(col)}_apr']\n",
    "\n",
    "def pct_median_value(df, col):\n",
    "    df[f'pct_of_avg_{col}'] = df[Stats.points(col)] / df[f'{Stats.points(col)}_apr']\n",
    "\n",
    "\n",
    "pct_value(df_full_projections,'full_ppr')\n",
    "pct_value(df_full_projections,'half_ppr')\n",
    "pct_value(df_full_projections,'standard')"
   ]
  },
  {
   "cell_type": "code",
   "execution_count": null,
   "metadata": {},
   "outputs": [],
   "source": [
    "df_full_projections.sort_values('pct_of_avg_full_ppr', ascending=False)[[PLAYER_NAME,'pct_of_avg_full_ppr','pct_of_avg_standard','pct_of_avg_half_ppr']]\n"
   ]
  },
  {
   "cell_type": "code",
   "execution_count": null,
   "metadata": {},
   "outputs": [],
   "source": [
    "df_full_projections.query('player==\"Travis Kelce\"')\n",
    "df_pos_proj.loc[TE]"
   ]
  },
  {
   "cell_type": "code",
   "execution_count": null,
   "metadata": {
    "tags": []
   },
   "outputs": [],
   "source": [
    "from matplotlib import pyplot as plt \n",
    "import seaborn as sns\n",
    "top_rb = df_full_projections.query('position == \"RB\"').sort_values('pct_of_avg_full_ppr',ascending=False)[:36]\n",
    "top_wr = df_full_projections.query('position == \"WR\"').sort_values('pct_of_avg_full_ppr',ascending=False)[:36]\n",
    "top_te = df_full_projections.query('position == \"TE\"').sort_values('pct_of_avg_full_ppr',ascending=False)[:36]\n",
    "top_qb = df_full_projections.query('position == \"QB\"').sort_values('pct_of_avg_full_ppr',ascending=False)[:36]\n",
    "#.plot(kind='bar',x=PLAYER_NAME,y='pct_of_avg_full_ppr');"
   ]
  },
  {
   "cell_type": "code",
   "execution_count": null,
   "metadata": {},
   "outputs": [],
   "source": [
    "\n",
    "top_rb.plot(kind='bar',x=PLAYER_NAME,y='pct_of_avg_full_ppr');\n",
    "top_qb.plot(kind='bar',x=PLAYER_NAME,y='pct_of_avg_full_ppr');\n",
    "top_wr.plot(kind='bar',x=PLAYER_NAME,y='pct_of_avg_full_ppr');\n",
    "top_te.plot(kind='bar',x=PLAYER_NAME,y='pct_of_avg_full_ppr');"
   ]
  }
 ],
 "metadata": {
  "kernelspec": {
   "display_name": "Python 3.8.3 64-bit",
   "name": "python_defaultSpec_1598024082108"
  },
  "language_info": {
   "codemirror_mode": {
    "name": "ipython",
    "version": 3
   },
   "file_extension": ".py",
   "mimetype": "text/x-python",
   "name": "python",
   "nbconvert_exporter": "python",
   "pygments_lexer": "ipython3",
   "version": "3.8.3-final"
  }
 },
 "nbformat": 4,
 "nbformat_minor": 2
}
