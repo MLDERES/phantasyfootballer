{
 "cells": [
  {
   "cell_type": "code",
   "execution_count": null,
   "metadata": {},
   "outputs": [],
   "source": [
    "from pathlib import Path\n",
    "from kedro.framework.context import load_context\n",
    "from IPython.core.interactiveshell import InteractiveShell\n",
    "from IPython.display import display, HTML\n",
    "\n",
    "current_dir = Path.cwd()  # this points to 'notebooks/' folder\n",
    "proj_path = current_dir.parent  # point back to the root of the project\n",
    "context = load_context(proj_path)\n",
    "catalog = context.catalog\n",
    "\n",
    "import warnings\n",
    "\n",
    "import pandas as pd\n",
    "import seaborn as sns\n",
    "import matplotlib.pyplot as plt\n",
    "\n",
    "InteractiveShell.ast_node_interactivity = \"all\"\n",
    "warnings.filterwarnings('ignore')\n",
    "warnings.simplefilter('ignore')\n",
    "\n",
    "pd.set_option('display.multi_sparse', False)\n",
    "pd.set_option('display.max_rows', 500)\n",
    "pd.set_option('precision', 4)\n",
    "pd.set_option('display.precision', 4)"
   ]
  },
  {
   "cell_type": "code",
   "execution_count": null,
   "metadata": {
    "tags": []
   },
   "outputs": [],
   "source": [
    "from phantasyfootballer.common import Stats, PLAYER_NAME\n",
    "from phantasyfootballer.settings import POSITION\n",
    "current_data = catalog.load('results.weekly')\n"
   ]
  },
  {
   "cell_type": "markdown",
   "metadata": {},
   "source": [
    "# How are the QB doing so far?"
   ]
  },
  {
   "cell_type": "code",
   "execution_count": null,
   "metadata": {},
   "outputs": [],
   "source": [
    "qb_data = current_data.query(f'year==2020 and {POSITION}==\"QB\"').groupby('player')\n"
   ]
  },
  {
   "cell_type": "code",
   "execution_count": null,
   "metadata": {},
   "outputs": [],
   "source": [
    "qb_stats = qb_data.agg({Stats.MISC_FL:'sum', Stats.PASS_INT:'sum', Stats.PASS_YDS:'sum', Stats.PASS_ATT:'sum'}).query(f'{Stats.PASS_ATT} >= 10')\n",
    "qb_stats['avg_yds_per_attempt'] = qb_stats[Stats.PASS_YDS]/qb_stats[Stats.PASS_ATT]\n",
    "qb_stats['int_per_attempt'] = qb_stats[Stats.PASS_INT] / qb_stats[Stats.PASS_ATT]\n",
    "qb_stats.sort_values([Stats.PASS_ATT], ascending=False)"
   ]
  }
 ],
 "metadata": {
  "kernelspec": {
   "display_name": "Python 3.8.6 64-bit",
   "metadata": {
    "interpreter": {
     "hash": "4cd7ab41f5fca4b9b44701077e38c5ffd31fe66a6cab21e0214b68d958d0e462"
    }
   },
   "name": "Python 3.8.6 64-bit"
  },
  "language_info": {
   "codemirror_mode": {
    "name": "ipython",
    "version": 3
   },
   "file_extension": ".py",
   "mimetype": "text/x-python",
   "name": "python",
   "nbconvert_exporter": "python",
   "pygments_lexer": "ipython3",
   "version": "3.8.6-final"
  }
 },
 "nbformat": 4,
 "nbformat_minor": 2
}
