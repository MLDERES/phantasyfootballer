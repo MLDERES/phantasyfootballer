{
 "cells": [
  {
   "cell_type": "code",
   "execution_count": null,
   "metadata": {
    "tags": []
   },
   "outputs": [],
   "source": [
    "from pathlib import Path\n",
    "from kedro.framework.context import load_context\n",
    "\n",
    "current_dir = Path.cwd()  # this points to 'notebooks/' folder\n",
    "proj_path = current_dir.parent  # point back to the root of the project\n",
    "context = load_context(proj_path)\n",
    "\n",
    "import warnings\n",
    "warnings.filterwarnings('ignore')\n",
    "warnings.simplefilter('ignore')\n",
    "\n",
    "from IPython.core.interactiveshell import InteractiveShell\n",
    "InteractiveShell.ast_node_interactivity = \"all\"\n",
    "\n",
    "import pandas as pd\n",
    "import seaborn as sns\n",
    "import matplotlib.pyplot as plt"
   ]
  },
  {
   "cell_type": "code",
   "execution_count": null,
   "metadata": {
    "tags": []
   },
   "outputs": [],
   "source": [
    "%reload_kedro\n"
   ]
  },
  {
   "cell_type": "code",
   "execution_count": null,
   "metadata": {},
   "outputs": [],
   "source": [
    "    def _calculate_expiration_hours(expiration ) -> int:\n",
    "        regex = r\"(\\d*)\\s*([H|M|D]?)\"\n",
    "        try:\n",
    "            num, letter = re.findall(regex,'8 H')[0]\n",
    "        except:\n",
    "            DataSetError('Invalid expiration')\n",
    "        conversion =  {'H': 1, 'D': 24, 'M': 1/60}\n",
    "        return int(num * conversion.get(letter, 24))\n",
    "    \n",
    "    def _calculate_file_age(filepath: Path) -> int:\n",
    "        '''\n",
    "        Returns the age of a file in days\n",
    "        '''\n",
    "        today = datetime.datetime.today()\n",
    "        modified_date = datetime.datetime.fromtimestamp(os.path.getmtime(filepath))\n",
    "        return (today - modified_date).days/24\n",
    "\n",
    "    _calculate_expiration_hours('8H')"
   ]
  },
  {
   "cell_type": "code",
   "execution_count": null,
   "metadata": {
    "tags": []
   },
   "outputs": [],
   "source": [
    "from phantasyfootballer.settings import *\n",
    "from phantasyfootballer.common import combine_data_horizontal\n",
    "\n",
    "df = context.catalog.load('scoring.half_ppr')\n",
    "df_left = df[KEEPER_COLUMNS]\n",
    "df_right = df_left.copy()\n",
    "df_right['NEW_COL'] = 'new_data'\n",
    "combine_data_horizontal(df_left,df_right)"
   ]
  },
  {
   "cell_type": "code",
   "execution_count": null,
   "metadata": {
    "tags": []
   },
   "outputs": [],
   "source": [
    "from phantasyfootballer.settings import *\n",
    "from phantasyfootballer.common import Stats\n",
    "data = context.catalog.load('scoring.ppr')\n",
    "#data.head()\n"
   ]
  },
  {
   "cell_type": "code",
   "execution_count": null,
   "metadata": {
    "tags": []
   },
   "outputs": [],
   "source": [
    "data.head()\n",
    "\n",
    "    "
   ]
  },
  {
   "cell_type": "code",
   "execution_count": null,
   "metadata": {
    "tags": []
   },
   "outputs": [],
   "source": [
    "df = context.catalog.load('ppr.percent_mean_data')\n",
    "df2 = context.catalog.load('ppr.percent_typical_data')\n",
    "df_qb = df.query('position==\"QB\"')\n",
    "df_wr = df.query('position==\"WR\"')\n",
    "df_rb = df.query('position==\"RB\"')\n",
    "df_te = df.query('position==\"TE\"')\n",
    "\n",
    "\n",
    "len(df_qb)\n",
    "len(df_rb)\n",
    "len(df_te)\n",
    "len(df_wr)\n",
    "df_qb.columns\n"
   ]
  },
  {
   "cell_type": "code",
   "execution_count": null,
   "metadata": {},
   "outputs": [],
   "source": [
    "#Distribution of players"
   ]
  },
  {
   "cell_type": "code",
   "execution_count": null,
   "metadata": {},
   "outputs": [],
   "source": [
    "df_filter = pd.DataFrame({'A':range(100,105)})\n",
    "m = df_qb.index.isin(df_filter.index)\n",
    "df_qb.loc[m, 'keeper'] = True\n",
    "df_qb.head(10)\n",
    "\n"
   ]
  },
  {
   "cell_type": "code",
   "execution_count": null,
   "metadata": {},
   "outputs": [],
   "source": [
    "df = pd.DataFrame({'A':range(5), 'B':range(5,10), 'C':range(5,10)})\n",
    "df2= pd.DataFrame({'A':[1,2,3], 'B':range(5,8), 'C':range(5,8)})\n",
    "df\n",
    "df2\n",
    "df.merge(df2, how='right',indicator=True)"
   ]
  },
  {
   "cell_type": "code",
   "execution_count": null,
   "metadata": {},
   "outputs": [],
   "source": [
    "df_qb.query('is_top_player')"
   ]
  },
  {
   "cell_type": "code",
   "execution_count": null,
   "metadata": {},
   "outputs": [],
   "source": [
    "df = pd.read_html(\"https://www.pro-football-reference.com/play-index/pgl_finder.cgi?request=1&match=game&year_min=2019&year_max=2019&season_start=1&season_end=-1&age_min=0&age_max=99&game_type=A&league_id=&team_id=&opp_id=&game_num_min=0&game_num_max=99&week_num_min=1&week_num_max=1&game_day_of_week=&game_location=&game_result=&handedness=&is_active=&is_hof=&c1stat=pass_att&c1comp=gt&c1val=1&c2stat=&c2comp=gt&c2val=&c3stat=&c3comp=gt&c3val=&c4stat=&c4comp=gt&c4val=&order_by=pass_rating&from_link=1\",header=1)\n",
    "df\n"
   ]
  },
  {
   "cell_type": "code",
   "execution_count": null,
   "metadata": {},
   "outputs": [],
   "source": [
    "params = {'request':1,'match':'game','year_min':2019, 'year_max':2019,'season_start':1,\n",
    "'season_end':-1,'age_min':0,'age_max':99,'game_type':'A',\n",
    "'league_id':None,'team_id':None,'opp_id':None,\n",
    "'game_num_min':0,'game_num_max':99,'week_num_min':1,'week_num_max':1,\n",
    "'game_day_of_week':None,'game_location':None,'game_result':None,'handedness':None,'is_active':None,\n",
    "'is_hof':None,'c1stat':'pass_att','c1comp':'>','c1val':1,\n",
    "'c2stat':None,'c2comp':'>','c2val':None,'c3stat':None,\n",
    "'c3comp':'>','c3val':None,'c4stat':None,'c4comp':'gt','c4val':None,'order_by':'pass_rating',\n",
    "'from_link':1}\n",
    "\n",
    "import requests\n",
    "from bs4 import BeautifulSoup\n",
    "\n",
    "t = requests.get(\"https://www.pro-football-reference.com/play-index/pgl_finder.cgi?\",params=params)\n",
    "\n",
    "soup = BeautifulSoup(t.text)\n",
    "soup.find_all('td')\n",
    "soup\n",
    "\n",
    "#df = pd.read_html(\"https://www.pro-football-reference.com/play-index/pgl_finder.cgi?request=1&match=game&year_min=2019&year_max=2019&season_start=1&season_end=-1&age_min=0&age_max=99&game_type=A&league_id=&team_id=&opp_id=&game_num_min=0&game_num_max=99&week_num_min=1&week_num_max=1&game_day_of_week=&game_location=&game_result=&handedness=&is_active=&is_hof=&c1stat=pass_att&c1comp=gt&c1val=1&c2stat=&c2comp=gt&c2val=&c3stat=&c3comp=gt&c3val=&c4stat=&c4comp=gt&c4val=&order_by=pass_rating&from_link=1\",header=1)\n"
   ]
  }
 ],
 "metadata": {
  "kernelspec": {
   "display_name": "Python 3.8.3 64-bit",
   "name": "python_defaultSpec_1599761710153"
  },
  "language_info": {
   "codemirror_mode": {
    "name": "ipython",
    "version": 3
   },
   "file_extension": ".py",
   "mimetype": "text/x-python",
   "name": "python",
   "nbconvert_exporter": "python",
   "pygments_lexer": "ipython3",
   "version": "3.8.3-final"
  }
 },
 "nbformat": 4,
 "nbformat_minor": 2
}
