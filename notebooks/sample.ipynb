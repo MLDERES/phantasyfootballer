{
 "cells": [
  {
   "cell_type": "code",
   "execution_count": null,
   "metadata": {
    "tags": []
   },
   "outputs": [],
   "source": [
    "from pathlib import Path\n",
    "from kedro.framework.context import load_context\n",
    "\n",
    "current_dir = Path.cwd()  # this points to 'notebooks/' folder\n",
    "proj_path = current_dir.parent  # point back to the root of the project\n",
    "context = load_context(proj_path)\n",
    "\n",
    "import warnings\n",
    "warnings.filterwarnings('ignore')\n",
    "warnings.simplefilter('ignore')\n",
    "\n",
    "from IPython.core.interactiveshell import InteractiveShell\n",
    "InteractiveShell.ast_node_interactivity = \"all\"\n",
    "\n",
    "import pandas as pd\n",
    "import seaborn as sns\n",
    "import matplotlib.pyplot as plt"
   ]
  },
  {
   "cell_type": "code",
   "execution_count": null,
   "metadata": {
    "tags": []
   },
   "outputs": [],
   "source": [
    "%reload_kedro\n"
   ]
  },
  {
   "cell_type": "code",
   "execution_count": null,
   "metadata": {},
   "outputs": [],
   "source": [
    "    def _calculate_expiration_hours(expiration ) -> int:\n",
    "        regex = r\"(\\d*)\\s*([H|M|D]?)\"\n",
    "        try:\n",
    "            num, letter = re.findall(regex,'8 H')[0]\n",
    "        except:\n",
    "            DataSetError('Invalid expiration')\n",
    "        conversion =  {'H': 1, 'D': 24, 'M': 1/60}\n",
    "        return int(num * conversion.get(letter, 24))\n",
    "    \n",
    "    def _calculate_file_age(filepath: Path) -> int:\n",
    "        '''\n",
    "        Returns the age of a file in days\n",
    "        '''\n",
    "        today = datetime.datetime.today()\n",
    "        modified_date = datetime.datetime.fromtimestamp(os.path.getmtime(filepath))\n",
    "        return (today - modified_date).days/24\n",
    "\n",
    "    _calculate_expiration_hours('8H')"
   ]
  },
  {
   "cell_type": "code",
   "execution_count": null,
   "metadata": {
    "tags": []
   },
   "outputs": [],
   "source": [
    "from phantasyfootballer.settings import *\n",
    "from phantasyfootballer.common import combine_data_horizontal\n",
    "\n",
    "df = context.catalog.load('scoring.half_ppr')\n",
    "df_left = df[KEEPER_COLUMNS]\n",
    "df_right = df_left.copy()\n",
    "df_right['NEW_COL'] = 'new_data'\n",
    "combine_data_horizontal(df_left,df_right)"
   ]
  },
  {
   "cell_type": "code",
   "execution_count": null,
   "metadata": {
    "tags": []
   },
   "outputs": [],
   "source": [
    "from phantasyfootballer.settings import *\n",
    "from phantasyfootballer.common import Stats\n",
    "data = context.catalog.load('scoring.ppr')\n",
    "#data.head()\n"
   ]
  },
  {
   "cell_type": "code",
   "execution_count": null,
   "metadata": {
    "tags": []
   },
   "outputs": [],
   "source": [
    "data.head()\n",
    "\n",
    "    "
   ]
  },
  {
   "cell_type": "code",
   "execution_count": null,
   "metadata": {
    "tags": []
   },
   "outputs": [],
   "source": [
    "df = context.catalog.load('ppr.percent_mean_data')\n",
    "df2 = context.catalog.load('ppr.percent_typical_data')\n",
    "df_qb = df.query('position==\"QB\"')\n",
    "df_wr = df.query('position==\"WR\"')\n",
    "df_rb = df.query('position==\"RB\"')\n",
    "df_te = df.query('position==\"TE\"')\n",
    "\n",
    "\n",
    "len(df_qb)\n",
    "len(df_rb)\n",
    "len(df_te)\n",
    "len(df_wr)\n",
    "df_qb.columns\n"
   ]
  },
  {
   "cell_type": "code",
   "execution_count": null,
   "metadata": {},
   "outputs": [],
   "source": [
    "#Distribution of players"
   ]
  },
  {
   "cell_type": "code",
   "execution_count": null,
   "metadata": {},
   "outputs": [],
   "source": [
    "df_filter = pd.DataFrame({'A':range(100,105)})\n",
    "m = df_qb.index.isin(df_filter.index)\n",
    "df_qb.loc[m, 'keeper'] = True\n",
    "df_qb.head(10)\n",
    "\n"
   ]
  },
  {
   "cell_type": "code",
   "execution_count": null,
   "metadata": {},
   "outputs": [],
   "source": [
    "df = pd.DataFrame({'A':range(5), 'B':range(5,10), 'C':range(5,10)})\n",
    "df2= pd.DataFrame({'A':[1,2,3], 'B':range(5,8), 'C':range(5,8)})\n",
    "df\n",
    "df2\n",
    "df.merge(df2, how='right',indicator=True)"
   ]
  },
  {
   "cell_type": "code",
   "execution_count": null,
   "metadata": {},
   "outputs": [],
   "source": [
    "df_qb.query('is_top_player')"
   ]
  }
 ],
 "metadata": {
  "kernelspec": {
   "display_name": "Python 3.8.3 64-bit",
   "name": "python_defaultSpec_1598124538863"
  },
  "language_info": {
   "codemirror_mode": {
    "name": "ipython",
    "version": 3
   },
   "file_extension": ".py",
   "mimetype": "text/x-python",
   "name": "python",
   "nbconvert_exporter": "python",
   "pygments_lexer": "ipython3",
   "version": "3.8.3-final"
  }
 },
 "nbformat": 4,
 "nbformat_minor": 2
}
