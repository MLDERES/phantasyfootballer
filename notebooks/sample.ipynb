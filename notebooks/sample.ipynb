{
 "cells": [
  {
   "cell_type": "code",
   "execution_count": null,
   "metadata": {
    "tags": []
   },
   "outputs": [],
   "source": [
    "import warnings\n",
    "warnings.filterwarnings('ignore')\n",
    "warnings.simplefilter('ignore')\n",
    "\n",
    "from pathlib import Path\n",
    "from kedro.framework.context import load_context\n",
    "\n",
    "current_dir = Path.cwd()  # this points to 'notebooks/' folder\n",
    "proj_path = current_dir.parent  # point back to the root of the project\n",
    "context = load_context(proj_path)\n",
    "from IPython.core.interactiveshell import InteractiveShell\n",
    "InteractiveShell.ast_node_interactivity = \"all\"\n"
   ]
  },
  {
   "cell_type": "code",
   "execution_count": null,
   "metadata": {
    "tags": []
   },
   "outputs": [],
   "source": [
    "%reload_kedro"
   ]
  },
  {
   "cell_type": "code",
   "execution_count": null,
   "metadata": {},
   "outputs": [],
   "source": [
    "    def _calculate_expiration_hours(expiration ) -> int:\n",
    "        regex = r\"(\\d*)\\s*([H|M|D]?)\"\n",
    "        try:\n",
    "            num, letter = re.findall(regex,'8 H')[0]\n",
    "        except:\n",
    "            DataSetError('Invalid expiration')\n",
    "        conversion =  {'H': 1, 'D': 24, 'M': 1/60}\n",
    "        return int(num * conversion.get(letter, 24))\n",
    "    \n",
    "    def _calculate_file_age(filepath: Path) -> int:\n",
    "        '''\n",
    "        Returns the age of a file in days\n",
    "        '''\n",
    "        today = datetime.datetime.today()\n",
    "        modified_date = datetime.datetime.fromtimestamp(os.path.getmtime(filepath))\n",
    "        return (today - modified_date).days/24\n",
    "\n",
    "    _calculate_expiration_hours('8H')"
   ]
  },
  {
   "cell_type": "code",
   "execution_count": null,
   "metadata": {
    "tags": []
   },
   "outputs": [],
   "source": [
    "from phantasyfootballer.settings import *\n",
    "from phantasyfootballer.common import combine_data_horizontal\n",
    "\n",
    "df = context.catalog.load('scoring.half_ppr')\n",
    "df_left = df[KEEPER_COLUMNS]\n",
    "df_right = df_left.copy()\n",
    "df_right['NEW_COL'] = 'new_data'\n",
    "combine_data_horizontal(df_left,df_right)"
   ]
  }
 ],
 "metadata": {
  "kernelspec": {
   "display_name": "Python 3.8.3 64-bit",
   "name": "python_defaultSpec_1598023361223"
  },
  "language_info": {
   "codemirror_mode": {
    "name": "ipython",
    "version": 3
   },
   "file_extension": ".py",
   "mimetype": "text/x-python",
   "name": "python",
   "nbconvert_exporter": "python",
   "pygments_lexer": "ipython3",
   "version": "3.8.3-final"
  }
 },
 "nbformat": 4,
 "nbformat_minor": 2
}
