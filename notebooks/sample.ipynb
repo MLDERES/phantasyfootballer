{
 "cells": [
  {
   "cell_type": "code",
   "execution_count": null,
   "metadata": {
    "tags": []
   },
   "outputs": [],
   "source": [
    "import warnings\n",
    "warnings.filterwarnings('ignore')\n",
    "warnings.simplefilter('ignore')\n",
    "\n",
    "from pathlib import Path\n",
    "from kedro.framework.context import load_context\n",
    "\n",
    "current_dir = Path.cwd()  # this points to 'notebooks/' folder\n",
    "proj_path = current_dir.parent  # point back to the root of the project\n",
    "context = load_context(proj_path)\n",
    "from IPython.core.interactiveshell import InteractiveShell\n",
    "InteractiveShell.ast_node_interactivity = \"all\"\n"
   ]
  },
  {
   "cell_type": "code",
   "execution_count": null,
   "metadata": {
    "tags": []
   },
   "outputs": [],
   "source": [
    "df = context.catalog.load('fp_projections_remote')\n",
    "df.head()"
   ]
  },
  {
   "cell_type": "code",
   "execution_count": null,
   "metadata": {
    "tags": []
   },
   "outputs": [],
   "source": [
    "df.query('position == \"rb\"')"
   ]
  },
  {
   "cell_type": "code",
   "execution_count": null,
   "metadata": {
    "tags": []
   },
   "outputs": [],
   "source": [
    "\n"
   ]
  },
  {
   "cell_type": "code",
   "execution_count": null,
   "metadata": {
    "tags": []
   },
   "outputs": [],
   "source": [
    "import pandas as pd\n",
    "\n",
    "def s(uri, path, **a):\n",
    "    return pd.read_html(uri, path, **a)\n",
    "\n",
    "df = s('https://www.pro-football-reference.com/years/2019/rushing.htm','Rushing Table',skiprows=1)\n"
   ]
  },
  {
   "cell_type": "code",
   "execution_count": null,
   "metadata": {
    "tags": []
   },
   "outputs": [],
   "source": [
    "df = pd.read_csv('https://github.com/DynastyProcess/data/blob/master/files/db_fpecr.csv')\n",
    "df.head()\n",
    "\n",
    "\n",
    "#df = pd.read_parquet()"
   ]
  },
  {
   "cell_type": "code",
   "execution_count": null,
   "metadata": {
    "tags": []
   },
   "outputs": [],
   "source": [
    "df.groupby('fantasypros_id').head()"
   ]
  },
  {
   "cell_type": "code",
   "execution_count": null,
   "metadata": {},
   "outputs": [],
   "source": [
    "df_rb = pd.read_html('https://www.cbssports.com/fantasy/football/stats/RB/2020/season/projections/nonppr/',header=1)[0]\n",
    "df_wr = pd.read_html('https://www.cbssports.com/fantasy/football/stats/WR/2020/season/projections/nonppr/',header=1)[0]\n",
    "df_te = pd.read_html('https://www.cbssports.com/fantasy/football/stats/TE/2020/season/projections/nonppr/',header=1)[0]\n",
    "df_qb = pd.read_html('https://www.cbssports.com/fantasy/football/stats/QB/2020/season/projections/nonppr/',header=1)[0]"
   ]
  },
  {
   "cell_type": "code",
   "execution_count": null,
   "metadata": {},
   "outputs": [],
   "source": [
    "df_flex = pd.concat([df_rb, df_wr, df_te],ignore_index=True)"
   ]
  },
  {
   "cell_type": "code",
   "execution_count": null,
   "metadata": {},
   "outputs": [],
   "source": [
    "df_flex.columns"
   ]
  },
  {
   "cell_type": "code",
   "execution_count": null,
   "metadata": {
    "tags": []
   },
   "outputs": [],
   "source": [
    "df_names = pd.DataFrame()\n",
    "\n",
    "df_names = df_flex.Player.str.extract(r'(?P<stuff>.*?)(?P<pos>[A-Z]{1,2})\\s*(?P<team>[A-Z]{2,3}$)')\n",
    "df_names[['stuff_2','name']] = df_names.stuff.str.extract(r'(?P<stuff2>[A-Z]{2}\\s*[A-Z]{2,3})\\s*(?P<name>.*)')\n",
    "df_names.drop(columns=['stuff','stuff_2'], inplace=True)\n",
    "df_names"
   ]
  },
  {
   "cell_type": "code",
   "execution_count": null,
   "metadata": {},
   "outputs": [],
   "source": [
    "df_3 = df_names[['pos','team']]\n",
    "df_3.team.str.rstrip()"
   ]
  },
  {
   "cell_type": "code",
   "execution_count": null,
   "metadata": {
    "tags": []
   },
   "outputs": [],
   "source": [
    "import pandas as pd\n",
    "\n",
    "df1 = pd.DataFrame({'Player':['A','B','C'], \n",
    "    'Stat_1':range(3),'Stat_2':range(3),'Stat_3':range(3),\n",
    "    'pos':['rb','qb','te']})\n",
    "df2 = pd.DataFrame({'Player':['A','B','C'], 'Stat_1':range(3,6),'Stat_2':range(3,6),'Stat_3':range(3,6),\n",
    "'pos':['rb','qb','te'] })\n",
    "df3 = pd.DataFrame({'Player':['A','B','C'], 'Stat_1':range(3,6),'Stat_2':range(3,6),\n",
    "'pos':['rb','qb','te'] })\n",
    "df1['source'] ='fp'\n",
    "df2['source'] ='cbs'\n",
    "df3['source'] ='other'\n",
    "\n",
    "# df1 = df1.set_index('Player')\n",
    "# df2 = df2.set_index('Player')\n",
    "# df3 = df3.set_index('Player')\n",
    "df1\n",
    "df2\n",
    "df3"
   ]
  },
  {
   "cell_type": "code",
   "execution_count": null,
   "metadata": {
    "tags": []
   },
   "outputs": [],
   "source": [
    "def avg_ds(*dataframes):\n",
    "    count = len(dataframes)\n",
    "    df_temp = sum([d.select_dtypes('number') for d in dataframes])\n",
    "    return df_temp\n",
    "\n",
    "def mean_ds(*dataframes):\n",
    "    combined_dataframes = pd.DataFrame()\n",
    "    for d in dataframes:\n",
    "        combined_dataframes = pd.concat([combined_dataframes, d])\n",
    "    combined_dataframes.groupby('Player').mean()\n",
    "    return combined_dataframes\n",
    "\n",
    "df4 = mean_ds(df1,df2, df3)\n",
    "df4\n",
    "\n"
   ]
  },
  {
   "cell_type": "code",
   "execution_count": null,
   "metadata": {},
   "outputs": [],
   "source": [
    "combine_ds\n",
    "df4 = pd.concat([df1, df2, df3])\n",
    "\n",
    "df5 = df4.groupby('Player').mean()\n",
    "#df5['pos'] = df1['pos']\n",
    "df5"
   ]
  },
  {
   "cell_type": "code",
   "execution_count": null,
   "metadata": {
    "tags": []
   },
   "outputs": [],
   "source": [
    "df_cbs = context.catalog.load('cbs_projections_local')\n",
    "df_fp = context.catalog.load('fp_projections_local')\n",
    "df_cbs.head()"
   ]
  },
  {
   "cell_type": "code",
   "execution_count": null,
   "metadata": {
    "tags": []
   },
   "outputs": [],
   "source": [
    "def combine_ds(*dataframes):\n",
    "    df_all = pd.concat(dataframes)\n",
    "    df_all = df_all.groupby(['player','team','position']).mean().fillna(0)\n",
    "    df_all = df_all[df_all.sum(axis=1) > 0].reset_index()\n",
    "    return df_all\n",
    "    # df_player = dataframes[0][['player','team','position']]\n",
    "    # df_player = df_player.set_index(['player','team','position'])\n",
    "    \n",
    "    #return df_all.set_index(['player','team','position'])\n",
    "\n",
    "combine_ds(df_cbs, df_fp)\n",
    "combine_ds(df_cbs)\n",
    "\n"
   ]
  },
  {
   "cell_type": "code",
   "execution_count": null,
   "metadata": {},
   "outputs": [],
   "source": [
    "df_cbs.join(df_fp, on=['player','team','position'])"
   ]
  }
 ],
 "metadata": {
  "kernelspec": {
   "display_name": "Python 3.8.3 64-bit",
   "name": "python_defaultSpec_1597857772030"
  },
  "language_info": {
   "codemirror_mode": {
    "name": "ipython",
    "version": 3
   },
   "file_extension": ".py",
   "mimetype": "text/x-python",
   "name": "python",
   "nbconvert_exporter": "python",
   "pygments_lexer": "ipython3",
   "version": "3.8.3-final"
  }
 },
 "nbformat": 4,
 "nbformat_minor": 2
}
