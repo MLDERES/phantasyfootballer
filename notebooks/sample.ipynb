{
 "cells": [
  {
   "cell_type": "code",
   "execution_count": null,
   "metadata": {
    "tags": []
   },
   "outputs": [],
   "source": [
    "import warnings\n",
    "warnings.filterwarnings('ignore')\n",
    "warnings.simplefilter('ignore')\n",
    "\n",
    "from pathlib import Path\n",
    "from kedro.framework.context import load_context\n",
    "\n",
    "current_dir = Path.cwd()  # this points to 'notebooks/' folder\n",
    "proj_path = current_dir.parent  # point back to the root of the project\n",
    "context = load_context(proj_path)\n"
   ]
  },
  {
   "cell_type": "code",
   "execution_count": null,
   "metadata": {
    "tags": []
   },
   "outputs": [],
   "source": [
    "df = context.catalog.load('fp_projections_remote')\n",
    "df.head()"
   ]
  },
  {
   "cell_type": "code",
   "execution_count": null,
   "metadata": {
    "tags": []
   },
   "outputs": [],
   "source": [
    "df.query('position == \"rb\"')"
   ]
  },
  {
   "cell_type": "code",
   "execution_count": null,
   "metadata": {
    "tags": []
   },
   "outputs": [],
   "source": [
    "\n"
   ]
  },
  {
   "cell_type": "code",
   "execution_count": null,
   "metadata": {
    "tags": []
   },
   "outputs": [],
   "source": [
    "import pandas as pd\n",
    "\n",
    "def s(uri, path, **a):\n",
    "    return pd.read_html(uri, path, **a)\n",
    "\n",
    "df = s('https://www.pro-football-reference.com/years/2019/rushing.htm','Rushing Table',skiprows=1)\n"
   ]
  },
  {
   "cell_type": "code",
   "execution_count": null,
   "metadata": {
    "tags": []
   },
   "outputs": [],
   "source": [
    "df = pd.read_csv('https://github.com/DynastyProcess/data/blob/master/files/db_fpecr.csv')\n",
    "df.head()\n",
    "\n",
    "\n",
    "#df = pd.read_parquet()"
   ]
  },
  {
   "cell_type": "code",
   "execution_count": null,
   "metadata": {
    "tags": []
   },
   "outputs": [],
   "source": [
    "df.groupby('fantasypros_id').head()"
   ]
  },
  {
   "cell_type": "code",
   "execution_count": null,
   "metadata": {},
   "outputs": [],
   "source": [
    "df_rb = pd.read_html('https://www.cbssports.com/fantasy/football/stats/RB/2020/season/projections/nonppr/',header=1)[0]\n",
    "df_wr = pd.read_html('https://www.cbssports.com/fantasy/football/stats/WR/2020/season/projections/nonppr/',header=1)[0]\n",
    "df_te = pd.read_html('https://www.cbssports.com/fantasy/football/stats/TE/2020/season/projections/nonppr/',header=1)[0]\n",
    "df_qb = pd.read_html('https://www.cbssports.com/fantasy/football/stats/QB/2020/season/projections/nonppr/',header=1)[0]"
   ]
  },
  {
   "cell_type": "code",
   "execution_count": null,
   "metadata": {},
   "outputs": [],
   "source": [
    "df_flex = pd.concat([df_rb, df_wr, df_te],ignore_index=True)"
   ]
  },
  {
   "cell_type": "code",
   "execution_count": null,
   "metadata": {},
   "outputs": [],
   "source": [
    "df_flex.columns"
   ]
  },
  {
   "cell_type": "code",
   "execution_count": null,
   "metadata": {
    "tags": []
   },
   "outputs": [],
   "source": [
    "df_names = pd.DataFrame()\n",
    "\n",
    "df_names = df_flex.Player.str.extract(r'(?P<stuff>.*?)(?P<pos>[A-Z]{1,2})\\s*(?P<team>[A-Z]{2,3}$)')\n",
    "df_names[['stuff_2','name']] = df_names.stuff.str.extract(r'(?P<stuff2>[A-Z]{2}\\s*[A-Z]{2,3})\\s*(?P<name>.*)')\n",
    "df_names.drop(columns=['stuff','stuff_2'], inplace=True)\n",
    "df_names"
   ]
  },
  {
   "cell_type": "code",
   "execution_count": null,
   "metadata": {},
   "outputs": [],
   "source": [
    "df_3 = df_names[['pos','team']]\n",
    "df_3.team.str.rstrip()"
   ]
  }
 ],
 "metadata": {
  "kernelspec": {
   "display_name": "Python 3.8.3 64-bit",
   "name": "python_defaultSpec_1597785116236"
  },
  "language_info": {
   "codemirror_mode": {
    "name": "ipython",
    "version": 3
   },
   "file_extension": ".py",
   "mimetype": "text/x-python",
   "name": "python",
   "nbconvert_exporter": "python",
   "pygments_lexer": "ipython3",
   "version": "3.8.3-final"
  }
 },
 "nbformat": 4,
 "nbformat_minor": 2
}
